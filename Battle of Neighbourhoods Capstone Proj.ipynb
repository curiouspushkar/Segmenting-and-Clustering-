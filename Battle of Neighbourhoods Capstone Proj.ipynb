{
    "nbformat_minor": 1, 
    "cells": [
        {
            "source": "# The Battle of Neighbourhoods", 
            "cell_type": "markdown", 
            "metadata": {
                "collapsed": true
            }
        }, 
        {
            "source": "## 1. Introduction:\n\nMelbourne and Vienna are major cities in Australia and Austria respectively. These cities are multicultural with huge population.\nThese cities are featured as most livable cities in the world regularly and interested people are curious to understand this.\n\n\n### 1.1 Business Problem:\nAs part of this project we will try to compare the cities closely with the help of datascience tools and techniques and try to find an answer to the question as to how much similar or disimilar they are in terms of green spaces, restaurants, transportation and other major aspects of daily living in the nieghbourhoods.\n\nThe reason these two cities are selected is because they often feature in top as the most livable cities in the world. We would like to discover what makes them so.We will try to compare different aspects between them.\n\n### 1.2 Interested Audience:\n\nPeople who are interested in migrating to best places to live in and are unable to decide which one to choose amongst the one which are listed, we help them atleast to decide between these two cities. Similarly the exercise can be done with other cities featured regularly. ", 
            "cell_type": "markdown", 
            "metadata": {}
        }, 
        {
            "source": "## 2. Data Description and Methodology Brief:\n\n### 2.1 Data Description:\n\nFollowing are the data sources we consult:\n\n   1. Vienna - Wikipedia - https://en.wikipedia.org/wiki/Districts_of_Vienna\n   2. Melbourne - Government Data - https://www.melbourne.vic.gov.au/about-melbourne/melbourne-profile/Pages/city-maps.aspx    \n   3. Global Liveability Data 2018 - https://pages.eiu.com/rs/753-RIQ-438/images/The_Global_Liveability_Index_2018.pdf\n       \n### 2.2 Methodology Brief:\n\nWe will use above data sources to understand the neighbourhoods of respective cities. We will also use serives of Foursquare to explore geolocation data in terms of their neighbourhoods.This will include understanding neighbourhood data such as parks, hotels, landmarks, places of interest etc.\n\nWe will use KMeans machine learning technique to segment neighbourhoods with similar objects based on neighbourhood data and try to explore similarity and dissimilarity between two cities in question.", 
            "cell_type": "markdown", 
            "metadata": {}
        }, 
        {
            "source": "## Importing Libraries ", 
            "cell_type": "markdown", 
            "metadata": {}
        }, 
        {
            "source": "import numpy as np\nimport pandas as pd \nimport json\n!conda install -c conda-forge geopy --yes \nfrom geopy.geocoders import Nominatim \nimport requests \nfrom pandas.io.json import json_normalize\nimport matplotlib.cm as cm\nimport matplotlib.pyplot as plt\nimport matplotlib.colors as colors\n!conda install -c conda-forge folium=0.5.0 --yes\nimport folium\nfrom bs4 import BeautifulSoup\nfrom sklearn.cluster import KMeans\n\nprint('Libraries imported.')", 
            "cell_type": "code", 
            "metadata": {}, 
            "outputs": [
                {
                    "output_type": "stream", 
                    "name": "stdout", 
                    "text": "Solving environment: done\n\n## Package Plan ##\n\n  environment location: /opt/conda/envs/Python36\n\n  added / updated specs: \n    - geopy\n\n\nThe following packages will be downloaded:\n\n    package                    |            build\n    ---------------------------|-----------------\n    ca-certificates-2019.6.16  |       hecc5488_0         145 KB  conda-forge\n    certifi-2019.6.16          |           py36_1         149 KB  conda-forge\n    geographiclib-1.49         |             py_0          32 KB  conda-forge\n    geopy-1.20.0               |             py_0          57 KB  conda-forge\n    openssl-1.1.1c             |       h516909a_0         2.1 MB  conda-forge\n    ------------------------------------------------------------\n                                           Total:         2.5 MB\n\nThe following NEW packages will be INSTALLED:\n\n    geographiclib:   1.49-py_0         conda-forge\n    geopy:           1.20.0-py_0       conda-forge\n\nThe following packages will be UPDATED:\n\n    ca-certificates: 2019.5.15-0                   --> 2019.6.16-hecc5488_0 conda-forge\n    certifi:         2019.6.16-py36_0              --> 2019.6.16-py36_1     conda-forge\n\nThe following packages will be DOWNGRADED:\n\n    openssl:         1.1.1c-h7b6447c_1             --> 1.1.1c-h516909a_0    conda-forge\n\n\nDownloading and Extracting Packages\nca-certificates-2019 | 145 KB    | ##################################### | 100% \ncertifi-2019.6.16    | 149 KB    | ##################################### | 100% \ngeographiclib-1.49   | 32 KB     | ##################################### | 100% \ngeopy-1.20.0         | 57 KB     | ##################################### | 100% \nopenssl-1.1.1c       | 2.1 MB    | ##################################### | 100% \nPreparing transaction: done\nVerifying transaction: done\nExecuting transaction: done\nSolving environment: done\n\n## Package Plan ##\n\n  environment location: /opt/conda/envs/Python36\n\n  added / updated specs: \n    - folium=0.5.0\n\n\nThe following packages will be downloaded:\n\n    package                    |            build\n    ---------------------------|-----------------\n    folium-0.5.0               |             py_0          45 KB  conda-forge\n    branca-0.3.1               |             py_0          25 KB  conda-forge\n    vincent-0.4.4              |             py_1          28 KB  conda-forge\n    altair-3.1.0               |           py36_0         724 KB  conda-forge\n    ------------------------------------------------------------\n                                           Total:         822 KB\n\nThe following NEW packages will be INSTALLED:\n\n    altair:  3.1.0-py36_0 conda-forge\n    branca:  0.3.1-py_0   conda-forge\n    folium:  0.5.0-py_0   conda-forge\n    vincent: 0.4.4-py_1   conda-forge\n\n\nDownloading and Extracting Packages\nfolium-0.5.0         | 45 KB     | ##################################### | 100% \nbranca-0.3.1         | 25 KB     | ##################################### | 100% \nvincent-0.4.4        | 28 KB     | ##################################### | 100% \naltair-3.1.0         | 724 KB    | ##################################### | 100% \nPreparing transaction: done\nVerifying transaction: done\nExecuting transaction: done\nLibraries imported.\n"
                }
            ], 
            "execution_count": 2
        }, 
        {
            "source": "## Scraping from Web page and putting into a dataframe\n\nURL = 'https://en.wikipedia.org/wiki/Districts_of_Vienna'", 
            "cell_type": "code", 
            "metadata": {}, 
            "outputs": [], 
            "execution_count": null
        }, 
        {
            "source": "## Importing Neighbourhoods of Melbourne", 
            "cell_type": "markdown", 
            "metadata": {}
        }, 
        {
            "source": "melbourne_neighborhoods = pd.read_csv('Melbourne Neighbourhoods.csv')\nmelbourne_neighborhoods.head()\nmelbourne_neighborhoods['Latitude'] = 'Default Value'\nmelbourne_neighborhoods['Longitude'] = 'Default Value'\n\nmelbourne_neighborhoods.shape", 
            "cell_type": "code", 
            "metadata": {}, 
            "outputs": [], 
            "execution_count": null
        }, 
        {
            "source": "", 
            "cell_type": "code", 
            "metadata": {}, 
            "outputs": [], 
            "execution_count": null
        }
    ], 
    "metadata": {
        "kernelspec": {
            "display_name": "Python 3.6", 
            "name": "python3", 
            "language": "python"
        }, 
        "language_info": {
            "mimetype": "text/x-python", 
            "nbconvert_exporter": "python", 
            "version": "3.6.8", 
            "name": "python", 
            "pygments_lexer": "ipython3", 
            "file_extension": ".py", 
            "codemirror_mode": {
                "version": 3, 
                "name": "ipython"
            }
        }
    }, 
    "nbformat": 4
}