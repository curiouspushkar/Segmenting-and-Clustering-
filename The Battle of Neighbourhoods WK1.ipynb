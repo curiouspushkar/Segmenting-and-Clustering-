{
    "nbformat_minor": 1, 
    "cells": [
        {
            "source": "# The Battle Of Neighbourhoods", 
            "cell_type": "markdown", 
            "metadata": {
                "collapsed": true
            }
        }, 
        {
            "source": "## 1 Business Problem Section", 
            "cell_type": "markdown", 
            "metadata": {}
        }, 
        {
            "source": "### 1.1 Background\n\nNew York city is world's major financial and cultural centre. As a result of this, real estate properties see lot of activity in terms of buying and selling. \nDue to financial cricis of 2008, NYC has seen a bit of downturn in real estate prices but recently it has seen some recovery. Investors looking for real estate investment are very curious to know the best way to invest in the current scenario. ", 
            "cell_type": "markdown", 
            "metadata": {}
        }, 
        {
            "source": "### 1.2 Business Problem :\n\nHomebuyer client want optimal recommendation based on his requirements to buy a house in NYC. The house should meet his requirements, that is to be able to take a decision \nof buying in NYC.", 
            "cell_type": "markdown", 
            "metadata": {}
        }, 
        {
            "source": "## 2. Data Description and Methodology", 
            "cell_type": "markdown", 
            "metadata": {}
        }, 
        {
            "source": "### 2.1 Data Description:\n\nUsing Data Science techniques learnt in this course and using FourSquare location data we will provide recommendations to client.\nWe are going to cluster New York neighborhoods in order to recommend venues and the current average price of real estate where homebuyers can make a real estate investment.\nAlso we will recommend profitable venues venues i.e. pharmacy, restaurants, hospitals & grocery stores.\n\nThe Department of Finance (DOF) maintains records for all property sales in New York City, including sales of family homes in each borough(https://data.cityofnewyork.us/api/views/948r-3ads/rows.csv?accessType=DOWNLOAD).\nThis list includes all sales of 1-, 2-, and 3-Family Homes' from January 1st, 2009 to December 31, 2009, whose sale price is equal to or more than $150,000. The Building Class Category for Sales is based on the Building Class at the time of the sale.\nTo explore and target recommended locations across different venues according to the presence of amenities and essential facilities, we will access data through FourSquare API interface and arrange them as a dataframe for visualization. By merging data on New York properties and the relative price paid data from the HM Land Registry and data on amenities and essential facilities surrounding such properties from FourSquare API interface, we will be able to recommend profitable real estate investments.", 
            "cell_type": "markdown", 
            "metadata": {}
        }, 
        {
            "source": "### 2.2 Methodology", 
            "cell_type": "markdown", 
            "metadata": {}
        }, 
        {
            "source": "1. Collect Inspection Data\n2. Explore and Understand Data\n3. Data preparation and preprocessing \n4. Modeling", 
            "cell_type": "markdown", 
            "metadata": {}
        }, 
        {
            "source": "# Importing Libraries\n#Beautifulsoup library helps in web scraping data from webpage\nfrom bs4 import BeautifulSoup\n#lxml library is the parser used to parse the content from diffrent HTML Tags\nimport lxml\n# Requests library helps in getting the content of the webpage\nimport requests as req\n# library to handle data in a vectorized manner\nimport numpy as np\n#library for Data Analysis\nimport pandas as pd\n# library to handle JSON files\nimport json \n# convert an address into latitude and longitude values\nfrom geopy.geocoders import Nominatim \n# library to handle requests\nimport requests \n# tranform JSON file into a pandas dataframe\nfrom pandas.io.json import json_normalize \n# Matplotlib and associated plotting modules\nimport matplotlib.cm as cm\nimport matplotlib as plt\nimport matplotlib.colors as colors\n# import k-means from clustering stage\nfrom sklearn.cluster import KMeans\n# map rendering library\nimport folium \n# library to find median of List\nfrom numpy import median\nprint('Libraries imported.')", 
            "cell_type": "code", 
            "metadata": {}, 
            "outputs": [
                {
                    "output_type": "stream", 
                    "name": "stdout", 
                    "text": "Libraries imported.\n"
                }
            ], 
            "execution_count": 3
        }, 
        {
            "source": "# Download the Neighbourhood of NewYork with price dataset\n!wget -O ny_neighbourhood.csv  https://data.cityofnewyork.us/api/views/948r-3ads/rows.csv?accessType=DOWNLOAD", 
            "cell_type": "code", 
            "metadata": {}, 
            "outputs": [
                {
                    "output_type": "stream", 
                    "name": "stdout", 
                    "text": "--2019-08-04 07:54:26--  https://data.cityofnewyork.us/api/views/948r-3ads/rows.csv?accessType=DOWNLOAD\nResolving data.cityofnewyork.us (data.cityofnewyork.us)... 52.206.140.199, 52.206.140.205, 52.206.68.26\nConnecting to data.cityofnewyork.us (data.cityofnewyork.us)|52.206.140.199|:443... connected.\nHTTP request sent, awaiting response... 200 OK\nLength: unspecified [text/csv]\nSaving to: \u2018ny_neighbourhood.csv\u2019\n\n    [ <=>                                   ] 18,612      --.-K/s   in 0s      \n\n2019-08-04 07:54:27 (194 MB/s) - \u2018ny_neighbourhood.csv\u2019 saved [18612]\n\n"
                }
            ], 
            "execution_count": 4
        }, 
        {
            "source": "", 
            "cell_type": "code", 
            "metadata": {}, 
            "outputs": [], 
            "execution_count": null
        }
    ], 
    "metadata": {
        "kernelspec": {
            "display_name": "Python 3.6", 
            "name": "python3", 
            "language": "python"
        }, 
        "language_info": {
            "mimetype": "text/x-python", 
            "nbconvert_exporter": "python", 
            "version": "3.6.8", 
            "name": "python", 
            "pygments_lexer": "ipython3", 
            "file_extension": ".py", 
            "codemirror_mode": {
                "version": 3, 
                "name": "ipython"
            }
        }
    }, 
    "nbformat": 4
}